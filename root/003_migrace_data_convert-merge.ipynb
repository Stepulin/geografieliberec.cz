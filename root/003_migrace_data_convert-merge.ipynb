{
 "cells": [
  {
   "cell_type": "code",
   "execution_count": 1,
   "metadata": {},
   "outputs": [],
   "source": [
    "import pandas as pd"
   ]
  },
  {
   "cell_type": "code",
   "execution_count": 2,
   "metadata": {},
   "outputs": [],
   "source": [
    "isolatlngname = pd.read_csv(\"isolatlng_and_name.csv\")\n",
    "migracefinalabc = pd.read_csv(\"migracefinal-abc.csv\", encoding=\"utf-8\", sep=\";\")\n",
    "migracefinalage = pd.read_csv(\"migracefinal-age.csv\", encoding=\"utf-8\", sep=\";\")\n",
    "migracefinaldestorig = pd.read_csv(\"migracefinal-dest_orig.csv\", encoding=\"utf-8\", sep=\";\")"
   ]
  },
  {
   "cell_type": "code",
   "execution_count": 3,
   "metadata": {},
   "outputs": [],
   "source": [
    "datamerge1 = pd.merge(isolatlngname, migracefinalabc, left_on=\"id\", right_on=\"id\")\n",
    "datamerge2 = pd.merge(isolatlngname, migracefinalage, left_on=\"id\", right_on=\"id\")\n",
    "datamerge3 = pd.merge(isolatlngname, migracefinaldestorig, left_on=\"id\", right_on=\"id\")"
   ]
  },
  {
   "cell_type": "code",
   "execution_count": 4,
   "metadata": {},
   "outputs": [],
   "source": [
    "# datamerge1.info()"
   ]
  },
  {
   "cell_type": "code",
   "execution_count": 5,
   "metadata": {},
   "outputs": [],
   "source": [
    "### Prevod sloupcu z float64 na int(64) |/| Transforming columns from float64 to int(64)\n",
    "datamerge1 = datamerge1.round({\"T1990\":0})\n",
    "datamerge1.dropna(axis='columns', how='all')\n",
    "datamerge1.fillna(0, inplace=True)\n",
    "datamerge1 = datamerge1.astype({\"T1990\":int})\n",
    "\n",
    "datamerge1 = datamerge1.round({\"T1995\":0})\n",
    "datamerge1.dropna(axis='columns', how='all')\n",
    "datamerge1.fillna(0, inplace=True)\n",
    "datamerge1 = datamerge1.astype({\"T1995\":int})\n",
    "\n",
    "datamerge1 = datamerge1.round({\"T2000\":0})\n",
    "datamerge1.dropna(axis='columns', how='all')\n",
    "datamerge1.fillna(0, inplace=True)\n",
    "datamerge1 = datamerge1.astype({\"T2000\":int})\n",
    "\n",
    "datamerge1 = datamerge1.round({\"T2005\":0})\n",
    "datamerge1.dropna(axis='columns', how='all')\n",
    "datamerge1.fillna(0, inplace=True)\n",
    "datamerge1 = datamerge1.astype({\"T2005\":int})\n",
    "\n",
    "datamerge1 = datamerge1.round({\"T2010\":0})\n",
    "datamerge1.dropna(axis='columns', how='all')\n",
    "datamerge1.fillna(0, inplace=True)\n",
    "datamerge1 = datamerge1.astype({\"T2010\":int})\n",
    "\n",
    "datamerge1 = datamerge1.round({\"T2015\":0})\n",
    "datamerge1.dropna(axis='columns', how='all')\n",
    "datamerge1.fillna(0, inplace=True)\n",
    "datamerge1 = datamerge1.astype({\"T2015\":int})\n",
    "\n",
    "datamerge1 = datamerge1.round({\"T2019\":0})\n",
    "datamerge1.dropna(axis='columns', how='all')\n",
    "datamerge1.fillna(0, inplace=True)\n",
    "datamerge1 = datamerge1.astype({\"T2019\":int})\n",
    "\n",
    "datamerge1 = datamerge1.round({\"M1990\":0})\n",
    "datamerge1.dropna(axis='columns', how='all')\n",
    "datamerge1.fillna(0, inplace=True)\n",
    "datamerge1 = datamerge1.astype({\"M1990\":int})\n",
    "\n",
    "datamerge1 = datamerge1.round({\"M1995\":0})\n",
    "datamerge1.dropna(axis='columns', how='all')\n",
    "datamerge1.fillna(0, inplace=True)\n",
    "datamerge1 = datamerge1.astype({\"M1995\":int})\n",
    "\n",
    "datamerge1 = datamerge1.round({\"M2000\":0})\n",
    "datamerge1.dropna(axis='columns', how='all')\n",
    "datamerge1.fillna(0, inplace=True)\n",
    "datamerge1 = datamerge1.astype({\"M2000\":int})\n",
    "\n",
    "datamerge1 = datamerge1.round({\"M2005\":0})\n",
    "datamerge1.dropna(axis='columns', how='all')\n",
    "datamerge1.fillna(0, inplace=True)\n",
    "datamerge1 = datamerge1.astype({\"M2005\":int})\n",
    "\n",
    "datamerge1 = datamerge1.round({\"M2010\":0})\n",
    "datamerge1.dropna(axis='columns', how='all')\n",
    "datamerge1.fillna(0, inplace=True)\n",
    "datamerge1 = datamerge1.astype({\"M2010\":int})\n",
    "\n",
    "datamerge1 = datamerge1.round({\"M2015\":0})\n",
    "datamerge1.dropna(axis='columns', how='all')\n",
    "datamerge1.fillna(0, inplace=True)\n",
    "datamerge1 = datamerge1.astype({\"M2015\":int})\n",
    "\n",
    "datamerge1 = datamerge1.round({\"M2019\":0})\n",
    "datamerge1.dropna(axis='columns', how='all')\n",
    "datamerge1.fillna(0, inplace=True)\n",
    "datamerge1 = datamerge1.astype({\"M2019\":int})\n",
    "\n",
    "datamerge1 = datamerge1.round({\"F1990\":0})\n",
    "datamerge1.dropna(axis='columns', how='all')\n",
    "datamerge1.fillna(0, inplace=True)\n",
    "datamerge1 = datamerge1.astype({\"F1990\":int})\n",
    "\n",
    "datamerge1 = datamerge1.round({\"F1995\":0})\n",
    "datamerge1.dropna(axis='columns', how='all')\n",
    "datamerge1.fillna(0, inplace=True)\n",
    "datamerge1 = datamerge1.astype({\"F1995\":int})\n",
    "\n",
    "datamerge1 = datamerge1.round({\"F2000\":0})\n",
    "datamerge1.dropna(axis='columns', how='all')\n",
    "datamerge1.fillna(0, inplace=True)\n",
    "datamerge1 = datamerge1.astype({\"F2000\":int})\n",
    "\n",
    "datamerge1 = datamerge1.round({\"F2005\":0})\n",
    "datamerge1.dropna(axis='columns', how='all')\n",
    "datamerge1.fillna(0, inplace=True)\n",
    "datamerge1 = datamerge1.astype({\"F2005\":int})\n",
    "\n",
    "datamerge1 = datamerge1.round({\"F2010\":0})\n",
    "datamerge1.dropna(axis='columns', how='all')\n",
    "datamerge1.fillna(0, inplace=True)\n",
    "datamerge1 = datamerge1.astype({\"F2010\":int})\n",
    "\n",
    "datamerge1 = datamerge1.round({\"F2015\":0})\n",
    "datamerge1.dropna(axis='columns', how='all')\n",
    "datamerge1.fillna(0, inplace=True)\n",
    "datamerge1 = datamerge1.astype({\"F2015\":int})\n",
    "\n",
    "datamerge1 = datamerge1.round({\"F2019\":0})\n",
    "datamerge1.dropna(axis='columns', how='all')\n",
    "datamerge1.fillna(0, inplace=True)\n",
    "datamerge1 = datamerge1.astype({\"F2019\":int})"
   ]
  },
  {
   "cell_type": "code",
   "execution_count": 6,
   "metadata": {},
   "outputs": [],
   "source": [
    "# for rok in range (1995,2020,5):\n",
    "#     a1 = \"T\"\n",
    "#     a2 = \"M\"\n",
    "#     a3 = \"F\"\n",
    "#     b = str(rok)\n",
    "#     c1 = (a1+b)\n",
    "#     c2 = (a2+b)\n",
    "#     c3 = (a3+b)\n",
    "#     print(c1)"
   ]
  },
  {
   "cell_type": "code",
   "execution_count": 7,
   "metadata": {},
   "outputs": [],
   "source": [
    "# for rok in range (1995,2020,5):\n",
    "#     a1 = \"T\"\n",
    "#     a2 = \"M\"\n",
    "#     a3 = \"F\"\n",
    "#     b = str(rok)\n",
    "#     c1 = (a1+b)\n",
    "#     c2 = (a2+b)\n",
    "#     print(c2)"
   ]
  },
  {
   "cell_type": "code",
   "execution_count": 8,
   "metadata": {},
   "outputs": [],
   "source": [
    "# for rok in range (1995,2020,5):\n",
    "#     a1 = \"T\"\n",
    "#     a2 = \"M\"\n",
    "#     a3 = \"F\"\n",
    "#     b = str(rok)\n",
    "#     c1 = (a1+b)\n",
    "#     c2 = (a2+b)\n",
    "#     c3 = (a3+b)\n",
    "#     print(c3)"
   ]
  },
  {
   "cell_type": "code",
   "execution_count": 9,
   "metadata": {},
   "outputs": [],
   "source": [
    "# datamerge1.info()"
   ]
  },
  {
   "cell_type": "code",
   "execution_count": 10,
   "metadata": {},
   "outputs": [
    {
     "name": "stdout",
     "output_type": "stream",
     "text": [
      "HOTOVO\n"
     ]
    }
   ],
   "source": [
    "# datamerge1.drop_duplicates(keep=\"last\")\n",
    "# datamerge2.drop_duplicates(keep=\"last\")\n",
    "# datamerge3.drop_duplicates(keep=\"last\")\n",
    "datamerge1.to_csv(\"data-abc-migracefinal.csv\", encoding=\"utf-8\", index=False)\n",
    "datamerge2.to_csv(\"data-age-migracefinal.csv\", encoding=\"utf-8\", index=False)\n",
    "datamerge3.to_csv(\"data-dest_orig-migracefinal.csv\", encoding=\"utf-8\", index=False)\n",
    "print(\"HOTOVO\")"
   ]
  }
 ],
 "metadata": {
  "kernelspec": {
   "display_name": "Python 3",
   "language": "python",
   "name": "python3"
  },
  "language_info": {
   "codemirror_mode": {
    "name": "ipython",
    "version": 3
   },
   "file_extension": ".py",
   "mimetype": "text/x-python",
   "name": "python",
   "nbconvert_exporter": "python",
   "pygments_lexer": "ipython3",
   "version": "3.7.3"
  }
 },
 "nbformat": 4,
 "nbformat_minor": 4
}
