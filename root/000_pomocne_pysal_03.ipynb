{
 "cells": [
  {
   "cell_type": "code",
   "execution_count": 1,
   "metadata": {},
   "outputs": [],
   "source": [
    "import pysal\n",
    "import mapclassify\n",
    "import pandas as pd\n",
    "import numpy as np"
   ]
  },
  {
   "cell_type": "code",
   "execution_count": 2,
   "metadata": {},
   "outputs": [],
   "source": [
    "data = pd.read_csv(\"datafinal2.csv\", encoding=\"utf-8\")"
   ]
  },
  {
   "cell_type": "code",
   "execution_count": 3,
   "metadata": {},
   "outputs": [],
   "source": [
    "# data[\"procentualni_narust_pop\"]"
   ]
  },
  {
   "cell_type": "code",
   "execution_count": 43,
   "metadata": {},
   "outputs": [],
   "source": [
    "x = data[\"prirozeny_prirustek_na_1000\"]\n",
    "# print(x)"
   ]
  },
  {
   "cell_type": "code",
   "execution_count": 44,
   "metadata": {},
   "outputs": [
    {
     "data": {
      "text/plain": [
       "Quantiles               \n",
       "\n",
       "    Interval       Count\n",
       "------------------------\n",
       "[-20.98,  -0.51] |  1371\n",
       "( -0.51,   1.77] |  1365\n",
       "(  1.77,  10.64] |  1368\n",
       "( 10.64,  22.32] |  1369\n",
       "( 22.32,  42.29] |  1367"
      ]
     },
     "execution_count": 44,
     "metadata": {},
     "output_type": "execute_result"
    }
   ],
   "source": [
    "# mapclassify.NaturalBreaks(data1950[\"pop_total\"])\n",
    "mapclassify.Quantiles(x)"
   ]
  },
  {
   "cell_type": "code",
   "execution_count": 6,
   "metadata": {},
   "outputs": [],
   "source": [
    "# data1950[] = np.linspace(0,1000000000,5)"
   ]
  },
  {
   "cell_type": "code",
   "execution_count": 7,
   "metadata": {},
   "outputs": [],
   "source": [
    "# np.linspace(start=1,stop=4,num=5)"
   ]
  },
  {
   "cell_type": "code",
   "execution_count": 8,
   "metadata": {},
   "outputs": [
    {
     "data": {
      "text/plain": [
       "(array([4987.,    8.,    0.,    0.,    0.]),\n",
       " array([ 0, 10, 20, 30, 40, 50]),\n",
       " <a list of 5 Patch objects>)"
      ]
     },
     "execution_count": 8,
     "metadata": {},
     "output_type": "execute_result"
    },
    {
     "data": {
      "image/png": "[encoded data removed]",
      "text/plain": [
       "<Figure size 700x700 with 1 Axes>"
      ]
     },
     "metadata": {
      "needs_background": "light"
     },
     "output_type": "display_data"
    }
   ],
   "source": [
    "rada = x.to_numpy()\n",
    "import matplotlib.pyplot as plt\n",
    "w = 10\n",
    "h = 10\n",
    "d = 70\n",
    "plt.figure(figsize=(w, h), dpi=d)\n",
    "y = [1, 1, 2]\n",
    "\n",
    "# plt.hist(rada, bins=[0.78, 29649.13, 91663.29, 265163.74, 963922.59, 1240920.54])\n",
    "plt.hist(rada, bins=[0, 10, 20, 30, 40, 50])"
   ]
  },
  {
   "cell_type": "code",
   "execution_count": 9,
   "metadata": {},
   "outputs": [
    {
     "name": "stdout",
     "output_type": "stream",
     "text": [
      "<class 'geopandas.geodataframe.GeoDataFrame'>\n",
      "RangeIndex: 255 entries, 0 to 254\n",
      "Data columns (total 3 columns):\n",
      " #   Column    Non-Null Count  Dtype   \n",
      "---  ------    --------------  -----   \n",
      " 0   ADMIN     255 non-null    object  \n",
      " 1   ISO_A3    255 non-null    object  \n",
      " 2   geometry  255 non-null    geometry\n",
      "dtypes: geometry(1), object(2)\n",
      "memory usage: 6.1+ KB\n"
     ]
    }
   ],
   "source": [
    "import libpysal \n",
    "import geopandas as gpd\n",
    "import mapclassify\n",
    "\n",
    "gdf = gpd.read_file(\"countries.geojson\")\n",
    "gdf.info()\n",
    "\n",
    "#gdf.plot(column='geometry', scheme='Quantiles', k=10, figsize=(16, 9))"
   ]
  },
  {
   "cell_type": "code",
   "execution_count": null,
   "metadata": {},
   "outputs": [],
   "source": []
  }
 ],
 "metadata": {
  "kernelspec": {
   "display_name": "Python 3",
   "language": "python",
   "name": "python3"
  },
  "language_info": {
   "codemirror_mode": {
    "name": "ipython",
    "version": 3
   },
   "file_extension": ".py",
   "mimetype": "text/x-python",
   "name": "python",
   "nbconvert_exporter": "python",
   "pygments_lexer": "ipython3",
   "version": "3.7.3"
  }
 },
 "nbformat": 4,
 "nbformat_minor": 4
}
