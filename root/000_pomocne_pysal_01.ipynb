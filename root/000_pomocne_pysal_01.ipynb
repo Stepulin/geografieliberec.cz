{
 "cells": [
  {
   "cell_type": "code",
   "execution_count": 1,
   "metadata": {},
   "outputs": [],
   "source": [
    "import pysal\n",
    "import mapclassify\n",
    "import pandas as pd\n",
    "import numpy as np"
   ]
  },
  {
   "cell_type": "code",
   "execution_count": 2,
   "metadata": {},
   "outputs": [],
   "source": [
    "data1950 = pd.read_csv(\"/root/export/rok1995.csv\", encoding=\"utf-8\")\n",
    "data2000 = pd.read_csv(\"/root/export/rok2000.csv\", encoding=\"utf-8\")"
   ]
  },
  {
   "cell_type": "code",
   "execution_count": 3,
   "metadata": {},
   "outputs": [
    {
     "data": {
      "text/plain": [
       "0      18110.662\n",
       "1       3112.923\n",
       "2      28757.788\n",
       "3         53.158\n",
       "4         63.860\n",
       "         ...    \n",
       "223       14.147\n",
       "224      255.635\n",
       "225    14913.313\n",
       "226     9096.608\n",
       "227    11410.721\n",
       "Name: pop_total, Length: 228, dtype: float64"
      ]
     },
     "execution_count": 3,
     "metadata": {},
     "output_type": "execute_result"
    }
   ],
   "source": [
    "data1950[\"pop_total\"]"
   ]
  },
  {
   "cell_type": "code",
   "execution_count": 4,
   "metadata": {},
   "outputs": [
    {
     "name": "stdout",
     "output_type": "stream",
     "text": [
      "0      20779.957\n",
      "1       3129.246\n",
      "2      31042.238\n",
      "3         57.816\n",
      "4         65.390\n",
      "         ...    \n",
      "223       14.697\n",
      "224      314.116\n",
      "225    17409.071\n",
      "226    10415.942\n",
      "227    11881.482\n",
      "Name: pop_total, Length: 228, dtype: float64\n"
     ]
    }
   ],
   "source": [
    "populace = data2000[\"pop_total\"]\n",
    "print(populace)"
   ]
  },
  {
   "cell_type": "code",
   "execution_count": 5,
   "metadata": {},
   "outputs": [
    {
     "data": {
      "text/plain": [
       "Quantiles                       \n",
       "\n",
       "        Interval           Count\n",
       "--------------------------------\n",
       "[      0.79,     197.88] |    46\n",
       "(    197.88,    2394.76] |    45\n",
       "(   2394.76,    7946.54] |    46\n",
       "(   7946.54,   22069.07] |    45\n",
       "(  22069.07, 1290550.77] |    46"
      ]
     },
     "execution_count": 5,
     "metadata": {},
     "output_type": "execute_result"
    }
   ],
   "source": [
    "# mapclassify.NaturalBreaks(data1950[\"pop_total\"])\n",
    "mapclassify.Quantiles(populace)"
   ]
  },
  {
   "cell_type": "code",
   "execution_count": 6,
   "metadata": {},
   "outputs": [],
   "source": [
    "# data1950[] = np.linspace(0,1000000000,5)"
   ]
  },
  {
   "cell_type": "code",
   "execution_count": 7,
   "metadata": {},
   "outputs": [],
   "source": [
    "# np.linspace(start=1,stop=4,num=5)"
   ]
  },
  {
   "cell_type": "code",
   "execution_count": 8,
   "metadata": {},
   "outputs": [
    {
     "name": "stdout",
     "output_type": "stream",
     "text": [
      "0      20779.957\n",
      "1       3129.246\n",
      "2      31042.238\n",
      "3         57.816\n",
      "4         65.390\n",
      "         ...    \n",
      "223       14.697\n",
      "224      314.116\n",
      "225    17409.071\n",
      "226    10415.942\n",
      "227    11881.482\n",
      "Name: pop_total, Length: 228, dtype: float64\n"
     ]
    }
   ],
   "source": [
    "print(populace)"
   ]
  },
  {
   "cell_type": "code",
   "execution_count": 9,
   "metadata": {},
   "outputs": [
    {
     "data": {
      "text/plain": [
       "(array([193.,  24.,   8.,   1.,   2.]),\n",
       " array([      0,   30000,   90000,  265000,  963000, 1300000]),\n",
       " <a list of 5 Patch objects>)"
      ]
     },
     "execution_count": 9,
     "metadata": {},
     "output_type": "execute_result"
    },
    {
     "data": {
      "image/png": "[encoded data removed]",
      "text/plain": [
       "<Figure size 700x700 with 1 Axes>"
      ]
     },
     "metadata": {
      "needs_background": "light"
     },
     "output_type": "display_data"
    }
   ],
   "source": [
    "rada = populace.to_numpy()\n",
    "import matplotlib.pyplot as plt\n",
    "w = 10\n",
    "h = 10\n",
    "d = 70\n",
    "plt.figure(figsize=(w, h), dpi=d)\n",
    "y = [1, 1, 2]\n",
    "\n",
    "# plt.hist(rada, bins=[0.78, 29649.13, 91663.29, 265163.74, 963922.59, 1240920.54])\n",
    "plt.hist(rada, bins=[0, 30000, 90000, 265000, 963000, 1300000])"
   ]
  },
  {
   "cell_type": "code",
   "execution_count": null,
   "metadata": {},
   "outputs": [],
   "source": []
  },
  {
   "cell_type": "code",
   "execution_count": 10,
   "metadata": {},
   "outputs": [
    {
     "name": "stdout",
     "output_type": "stream",
     "text": [
      "<class 'geopandas.geodataframe.GeoDataFrame'>\n",
      "RangeIndex: 255 entries, 0 to 254\n",
      "Data columns (total 3 columns):\n",
      " #   Column    Non-Null Count  Dtype   \n",
      "---  ------    --------------  -----   \n",
      " 0   ADMIN     255 non-null    object  \n",
      " 1   ISO_A3    255 non-null    object  \n",
      " 2   geometry  255 non-null    geometry\n",
      "dtypes: geometry(1), object(2)\n",
      "memory usage: 6.1+ KB\n"
     ]
    }
   ],
   "source": [
    "import libpysal \n",
    "import geopandas as gpd\n",
    "import mapclassify\n",
    "\n",
    "gdf = gpd.read_file(\"countries.geojson\")\n",
    "gdf.info()\n",
    "\n",
    "#gdf.plot(column='geometry', scheme='Quantiles', k=10, figsize=(16, 9))"
   ]
  },
  {
   "cell_type": "code",
   "execution_count": null,
   "metadata": {},
   "outputs": [],
   "source": []
  },
  {
   "cell_type": "code",
   "execution_count": null,
   "metadata": {},
   "outputs": [],
   "source": []
  }
 ],
 "metadata": {
  "kernelspec": {
   "display_name": "Python 3",
   "language": "python",
   "name": "python3"
  },
  "language_info": {
   "codemirror_mode": {
    "name": "ipython",
    "version": 3
   },
   "file_extension": ".py",
   "mimetype": "text/x-python",
   "name": "python",
   "nbconvert_exporter": "python",
   "pygments_lexer": "ipython3",
   "version": "3.7.3"
  }
 },
 "nbformat": 4,
 "nbformat_minor": 4
}
