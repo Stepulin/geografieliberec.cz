{
 "cells": [
  {
   "cell_type": "code",
   "execution_count": 2,
   "metadata": {},
   "outputs": [],
   "source": [
    "import pysal\n",
    "import pandas as pd\n",
    "import numpy as np"
   ]
  },
  {
   "cell_type": "code",
   "execution_count": 3,
   "metadata": {},
   "outputs": [],
   "source": [
    "data = pd.read_csv(\"datafinal.csv\")"
   ]
  },
  {
   "cell_type": "code",
   "execution_count": 4,
   "metadata": {},
   "outputs": [
    {
     "name": "stdout",
     "output_type": "stream",
     "text": [
      "       loc_id  time  pop_male  pop_female  pop_total  pop_density   id iso_2  \\\n",
      "0           4  1950  4099.243    3652.874   7752.117         11.9    4    AF   \n",
      "1           4  1951  4134.756    3705.395   7840.151         12.0    4    AF   \n",
      "2           4  1952  4174.450    3761.546   7935.996         12.2    4    AF   \n",
      "3           4  1953  4218.336    3821.348   8039.684         12.3    4    AF   \n",
      "4           4  1954  4266.484    3884.832   8151.316         12.5    4    AF   \n",
      "...       ...   ...       ...         ...        ...          ...  ...   ...   \n",
      "15955     716  2015  6568.778    7245.864  13814.642         35.7  716    ZW   \n",
      "15956     716  2016  6674.206    7356.132  14030.338         36.3  716    ZW   \n",
      "15957     716  2017  6777.054    7459.545  14236.599         36.8  716    ZW   \n",
      "15958     716  2018  6879.119    7559.693  14438.812         37.3  716    ZW   \n",
      "15959     716  2019  6983.353    7662.120  14645.473         37.9  716    ZW   \n",
      "\n",
      "      iso_3   country_en   country_cz   latitude  longitude  pocet_ob  \n",
      "0       AFG  Afghanistan  Afghánistán  33.939110  67.709953   7752117  \n",
      "1       AFG  Afghanistan  Afghánistán  33.939110  67.709953   7840151  \n",
      "2       AFG  Afghanistan  Afghánistán  33.939110  67.709953   7935996  \n",
      "3       AFG  Afghanistan  Afghánistán  33.939110  67.709953   8039684  \n",
      "4       AFG  Afghanistan  Afghánistán  33.939110  67.709953   8151316  \n",
      "...     ...          ...          ...        ...        ...       ...  \n",
      "15955   ZWE     Zimbabwe     Zimbabwe -19.015438  29.154857  13814642  \n",
      "15956   ZWE     Zimbabwe     Zimbabwe -19.015438  29.154857  14030338  \n",
      "15957   ZWE     Zimbabwe     Zimbabwe -19.015438  29.154857  14236599  \n",
      "15958   ZWE     Zimbabwe     Zimbabwe -19.015438  29.154857  14438812  \n",
      "15959   ZWE     Zimbabwe     Zimbabwe -19.015438  29.154857  14645473  \n",
      "\n",
      "[15960 rows x 14 columns]\n"
     ]
    }
   ],
   "source": [
    "print(data)"
   ]
  },
  {
   "cell_type": "code",
   "execution_count": null,
   "metadata": {},
   "outputs": [],
   "source": []
  }
 ],
 "metadata": {
  "kernelspec": {
   "display_name": "Python 3",
   "language": "python",
   "name": "python3"
  },
  "language_info": {
   "codemirror_mode": {
    "name": "ipython",
    "version": 3
   },
   "file_extension": ".py",
   "mimetype": "text/x-python",
   "name": "python",
   "nbconvert_exporter": "python",
   "pygments_lexer": "ipython3",
   "version": "3.7.3"
  }
 },
 "nbformat": 4,
 "nbformat_minor": 4
}
