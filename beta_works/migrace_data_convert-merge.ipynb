{
 "cells": [
  {
   "cell_type": "code",
   "execution_count": 1,
   "metadata": {},
   "outputs": [],
   "source": [
    "import pandas as pd"
   ]
  },
  {
   "cell_type": "code",
   "execution_count": 2,
   "metadata": {},
   "outputs": [],
   "source": [
    "isolatlngname = pd.read_csv(\"isolatlng_and_name.csv\")\n",
    "migracefinalabc = pd.read_csv(\"migracefinal-abc.csv\", encoding=\"utf-8\", sep=\";\")\n",
    "migracefinalage = pd.read_csv(\"migracefinal-age.csv\", encoding=\"utf-8\", sep=\";\")\n",
    "migracefinaldestorig = pd.read_csv(\"migracefinal-dest_orig.csv\", encoding=\"utf-8\", sep=\";\")"
   ]
  },
  {
   "cell_type": "code",
   "execution_count": 3,
   "metadata": {},
   "outputs": [],
   "source": [
    "datamerge1 = pd.merge(isolatlngname, migracefinalabc, left_on=\"id\", right_on=\"id\")\n",
    "datamerge2 = pd.merge(isolatlngname, migracefinalage, left_on=\"id\", right_on=\"id\")\n",
    "datamerge3 = pd.merge(isolatlngname, migracefinaldestorig, left_on=\"id\", right_on=\"id\")"
   ]
  },
  {
   "cell_type": "code",
   "execution_count": 4,
   "metadata": {},
   "outputs": [],
   "source": [
    "# datamerge1.drop_duplicates(keep=\"last\")\n",
    "# datamerge2.drop_duplicates(keep=\"last\")\n",
    "# datamerge3.drop_duplicates(keep=\"last\")\n",
    "datamerge1.to_csv(\"data-abc-migracefinal.csv\", encoding=\"utf-8\", index=False)\n",
    "datamerge2.to_csv(\"data-age-migracefinal.csv\", encoding=\"utf-8\", index=False)\n",
    "datamerge3.to_csv(\"data-dest_orig-migracefinal.csv\", encoding=\"utf-8\", index=False)"
   ]
  }
 ],
 "metadata": {
  "kernelspec": {
   "display_name": "Python 3",
   "language": "python",
   "name": "python3"
  },
  "language_info": {
   "codemirror_mode": {
    "name": "ipython",
    "version": 3
   },
   "file_extension": ".py",
   "mimetype": "text/x-python",
   "name": "python",
   "nbconvert_exporter": "python",
   "pygments_lexer": "ipython3",
   "version": "3.7.3"
  }
 },
 "nbformat": 4,
 "nbformat_minor": 4
}
