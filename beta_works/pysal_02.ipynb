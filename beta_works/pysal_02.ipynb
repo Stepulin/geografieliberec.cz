{
 "cells": [
  {
   "cell_type": "code",
   "execution_count": 1,
   "metadata": {},
   "outputs": [],
   "source": [
    "import pysal\n",
    "import mapclassify\n",
    "import pandas as pd\n",
    "import numpy as np"
   ]
  },
  {
   "cell_type": "code",
   "execution_count": 2,
   "metadata": {},
   "outputs": [],
   "source": [
    "data1950 = pd.read_csv(\"/root/export/rok1995.csv\", encoding=\"utf-8\")\n",
    "data2000 = pd.read_csv(\"/root/export/rok2000.csv\", encoding=\"utf-8\")"
   ]
  },
  {
   "cell_type": "code",
   "execution_count": 3,
   "metadata": {},
   "outputs": [
    {
     "data": {
      "text/plain": [
       "0      18110662\n",
       "1       3112923\n",
       "2      28757788\n",
       "3         53158\n",
       "4         63860\n",
       "         ...   \n",
       "223       14147\n",
       "224      255635\n",
       "225    14913313\n",
       "226     9096608\n",
       "227    11410721\n",
       "Name: pocet_ob, Length: 228, dtype: int64"
      ]
     },
     "execution_count": 3,
     "metadata": {},
     "output_type": "execute_result"
    }
   ],
   "source": [
    "data1950[\"pocet_ob\"]"
   ]
  },
  {
   "cell_type": "code",
   "execution_count": 11,
   "metadata": {},
   "outputs": [
    {
     "name": "stdout",
     "output_type": "stream",
     "text": [
      "0       31.8\n",
      "1      114.2\n",
      "2       13.0\n",
      "3      289.1\n",
      "4      139.1\n",
      "       ...  \n",
      "223    105.0\n",
      "224      1.2\n",
      "225     33.0\n",
      "226     14.0\n",
      "227     30.7\n",
      "Name: pop_density, Length: 228, dtype: float64\n"
     ]
    }
   ],
   "source": [
    "populace = data2000[\"pop_density\"]\n",
    "print(populace)"
   ]
  },
  {
   "cell_type": "code",
   "execution_count": 12,
   "metadata": {},
   "outputs": [
    {
     "data": {
      "text/plain": [
       "Quantiles                   \n",
       "\n",
       "      Interval         Count\n",
       "----------------------------\n",
       "[    0.10,    20.64] |    46\n",
       "(   20.64,    53.62] |    45\n",
       "(   53.62,   106.52] |    46\n",
       "(  106.52,   247.84] |    45\n",
       "(  247.84, 21575.80] |    46"
      ]
     },
     "execution_count": 12,
     "metadata": {},
     "output_type": "execute_result"
    }
   ],
   "source": [
    "# mapclassify.NaturalBreaks(data1950[\"pop_total\"])\n",
    "mapclassify.Quantiles(populace)"
   ]
  },
  {
   "cell_type": "code",
   "execution_count": 6,
   "metadata": {},
   "outputs": [],
   "source": [
    "# data1950[] = np.linspace(0,1000000000,5)"
   ]
  },
  {
   "cell_type": "code",
   "execution_count": 7,
   "metadata": {},
   "outputs": [],
   "source": [
    "# np.linspace(start=1,stop=4,num=5)"
   ]
  },
  {
   "cell_type": "code",
   "execution_count": 8,
   "metadata": {},
   "outputs": [
    {
     "name": "stdout",
     "output_type": "stream",
     "text": [
      "0      20779957\n",
      "1       3129246\n",
      "2      31042238\n",
      "3         57816\n",
      "4         65390\n",
      "         ...   \n",
      "223       14697\n",
      "224      314116\n",
      "225    17409071\n",
      "226    10415942\n",
      "227    11881482\n",
      "Name: pocet_ob, Length: 228, dtype: int64\n"
     ]
    }
   ],
   "source": [
    "print(populace)"
   ]
  },
  {
   "cell_type": "code",
   "execution_count": 9,
   "metadata": {},
   "outputs": [
    {
     "data": {
      "text/plain": [
       "(array([16., 17., 16., 26.,  5.]),\n",
       " array([      0,   30000,   90000,  265000,  963000, 1300000]),\n",
       " <a list of 5 Patch objects>)"
      ]
     },
     "execution_count": 9,
     "metadata": {},
     "output_type": "execute_result"
    },
    {
     "data": {
      "image/png": "[encoded data removed]",
      "text/plain": [
       "<Figure size 700x700 with 1 Axes>"
      ]
     },
     "metadata": {
      "needs_background": "light"
     },
     "output_type": "display_data"
    }
   ],
   "source": [
    "rada = populace.to_numpy()\n",
    "import matplotlib.pyplot as plt\n",
    "w = 10\n",
    "h = 10\n",
    "d = 70\n",
    "plt.figure(figsize=(w, h), dpi=d)\n",
    "y = [1, 1, 2]\n",
    "\n",
    "# plt.hist(rada, bins=[0.78, 29649.13, 91663.29, 265163.74, 963922.59, 1240920.54])\n",
    "plt.hist(rada, bins=[0, 30000, 90000, 265000, 963000, 1300000])"
   ]
  },
  {
   "cell_type": "code",
   "execution_count": null,
   "metadata": {},
   "outputs": [],
   "source": []
  },
  {
   "cell_type": "code",
   "execution_count": 10,
   "metadata": {},
   "outputs": [
    {
     "name": "stdout",
     "output_type": "stream",
     "text": [
      "<class 'geopandas.geodataframe.GeoDataFrame'>\n",
      "RangeIndex: 255 entries, 0 to 254\n",
      "Data columns (total 3 columns):\n",
      " #   Column    Non-Null Count  Dtype   \n",
      "---  ------    --------------  -----   \n",
      " 0   ADMIN     255 non-null    object  \n",
      " 1   ISO_A3    255 non-null    object  \n",
      " 2   geometry  255 non-null    geometry\n",
      "dtypes: geometry(1), object(2)\n",
      "memory usage: 6.1+ KB\n"
     ]
    }
   ],
   "source": [
    "import libpysal \n",
    "import geopandas as gpd\n",
    "import mapclassify\n",
    "\n",
    "gdf = gpd.read_file(\"countries.geojson\")\n",
    "gdf.info()\n",
    "\n",
    "#gdf.plot(column='geometry', scheme='Quantiles', k=10, figsize=(16, 9))"
   ]
  }
 ],
 "metadata": {
  "kernelspec": {
   "display_name": "Python 3",
   "language": "python",
   "name": "python3"
  },
  "language_info": {
   "codemirror_mode": {
    "name": "ipython",
    "version": 3
   },
   "file_extension": ".py",
   "mimetype": "text/x-python",
   "name": "python",
   "nbconvert_exporter": "python",
   "pygments_lexer": "ipython3",
   "version": "3.7.3"
  }
 },
 "nbformat": 4,
 "nbformat_minor": 4
}
