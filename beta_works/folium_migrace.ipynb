{
 "cells": [
  {
   "cell_type": "code",
   "execution_count": 1,
   "metadata": {},
   "outputs": [],
   "source": [
    "### Zdroje |/| Sources\n",
    "# https://python-visualization.github.io/folium/index.html\n",
    "# https://vverde.github.io/blob/interactivechoropleth.html\n",
    "# NOT USED though https://geospatialawarenesshub.com/blog/make-interactive-choropleth-maps/\n",
    "# Nacti knihovny |/| Read the libraries\n",
    "import folium\n",
    "import pandas as pd\n",
    "import geopandas as gpd"
   ]
  },
  {
   "cell_type": "code",
   "execution_count": 2,
   "metadata": {},
   "outputs": [],
   "source": [
    "# Nastav proměnné pro (geo)json|/| Set variables for (geo)json\n",
    "geo01 = \"countries.geojson\"\n",
    "geo02 = \"custom.geo.json\"\n",
    "# Načit data |/| Read data\n",
    "dataabcmigracefinal = pd.read_csv(\"data-abc-migracefinal.csv\", encoding=\"utf-8\")\n",
    "dataagemigracefinal = pd.read_csv(\"data-age-migracefinal.csv\", encoding=\"utf-8\")\n",
    "datadestorigmigracefinal = pd.read_csv(\"data-dest_orig-migracefinal.csv\", encoding=\"utf-8\")\n",
    "data1=dataabcmigracefinal\n",
    "data2=dataagemigracefinal\n",
    "data3=datadestorigmigracefinal\n",
    "# Načti ještě jeden soubor pro HOVER fci |/| Read one more file for HOVER fct\n",
    "geo = gpd.read_file(geo02)\n",
    "### Extra spojeni |/| Extra connection\n",
    "spojeni = gpd.pd.merge(geo, dataabcmigracefinal, left_on=\"adm0_a3\", right_on=\"iso_3\")"
   ]
  },
  {
   "cell_type": "code",
   "execution_count": 3,
   "metadata": {},
   "outputs": [
    {
     "name": "stdout",
     "output_type": "stream",
     "text": [
      "HOTOVO\n"
     ]
    }
   ],
   "source": [
    "##### KATEGORIE start\n",
    "# myscale = (data2000['pop_density'].quantile((0,0.1,0.75,0.9,0.98,1))).tolist()\n",
    "# kat=[0,5000000,10000000,25000000,50000000,100000000,1000000000]\n",
    "# kat = [0,250000,500000,1000000,45000000]\n",
    "kat = [0,1000000,10000000,50000000,600000000]\n",
    "##### KATEGORIE stop\n",
    "\n",
    "mapa = folium.Map(location=[0,0], zoom_start=2)\n",
    "\n",
    "### Definujeme první vrstvu |/| Define first layer\n",
    "folium.Choropleth(\n",
    "    geo_data=geo01,\n",
    "    name=\"???\",\n",
    "    data=data1,\n",
    "    columns=[\"iso_3\",\"T2019\"],\n",
    "    key_on=\"feature.properties.ISO_A3\",\n",
    "    fill_color=\"YlGnBu\",\n",
    "    fill_opacity=1,\n",
    "    line_opacity=0.2,\n",
    "#     legend_name=\"2000\",\n",
    "    nan_fill_color=\"#d9d9d9\",\n",
    "    overlay=True,\n",
    "#     treshhold_scale=myscale\n",
    "    bins=kat\n",
    ").add_to(mapa)\n",
    "###\n",
    "\n",
    "# ### Definujeme druhou vrstvu |/| Define second layer\n",
    "# folium.Choropleth(\n",
    "#     geo_data=geo01,\n",
    "#     name=\"2000\",\n",
    "#     data=data2000,\n",
    "#     columns=[\"iso_3\",\"pocet_ob\"],\n",
    "#     key_on=\"feature.properties.ISO_A3\",\n",
    "#     fill_color=\"YlGnBu\",\n",
    "#     fill_opacity=1,\n",
    "#     line_opacity=0.2,\n",
    "# #     legend_name=\"2000\",\n",
    "#     nan_fill_color=\"grey\",\n",
    "#     overlay=True,\n",
    "# #     treshhold_scale=myscale,\n",
    "#     bins=kat\n",
    "# ).add_to(mapa)\n",
    "# ###\n",
    "\n",
    "### Přidání dalších podkladových map |/| Adding other base maps\n",
    "# folium.TileLayer('openstreetmap').add_to(mapa)\n",
    "# folium.TileLayer('stamentoner').add_to(mapa)\n",
    "# folium.TileLayer('stamenTerrain').add_to(mapa)\n",
    "# folium.TileLayer('stamenwatercolor').add_to(mapa)\n",
    "# folium.TileLayer('cartodbpositron').add_to(mapa)\n",
    "# folium.TileLayer('cartodbdark_matter').add_to(mapa)\n",
    "###\n",
    "folium.LayerControl().add_to(mapa)\n",
    "##### HOVER STYLE\n",
    "style_function = lambda x: {'fillColor': '#ffffff', 'color':'#000000', 'fillOpacity': 0.1, 'weight': 0.1}\n",
    "highlight_function = lambda x: {'fillColor': '#000000', 'color':'#000000', 'fillOpacity': 0.50, 'weight': 0.1}\n",
    "##### HOVER start\n",
    "hover = folium.features.GeoJson(\n",
    "    spojeni,\n",
    "    style_function=style_function, \n",
    "    control=False,\n",
    "    highlight_function=highlight_function, \n",
    "    tooltip=folium.features.GeoJsonTooltip(\n",
    "        fields=['country_en','T2019'],\n",
    "        aliases=['Název: ','Celkový počet ob.: '],\n",
    "        style=(\"background-color: white; color: #333333; font-family: arial; font-size: 12px; padding: 10px;\")))\n",
    "# Přidej hover funkci a nastav ji prioritu do popředí |/| Add hover function and set it as a front priority\n",
    "mapa.add_child(hover)\n",
    "mapa.keep_in_front(hover)\n",
    "##### HOVER end\n",
    "mapa.save(\"folium-migrace/indexT2019.html\")\n",
    "#mapa\n",
    "print(\"HOTOVO\")"
   ]
  },
  {
   "cell_type": "code",
   "execution_count": null,
   "metadata": {},
   "outputs": [],
   "source": []
  }
 ],
 "metadata": {
  "kernelspec": {
   "display_name": "Python 3",
   "language": "python",
   "name": "python3"
  },
  "language_info": {
   "codemirror_mode": {
    "name": "ipython",
    "version": 3
   },
   "file_extension": ".py",
   "mimetype": "text/x-python",
   "name": "python",
   "nbconvert_exporter": "python",
   "pygments_lexer": "ipython3",
   "version": "3.7.3"
  }
 },
 "nbformat": 4,
 "nbformat_minor": 4
}
